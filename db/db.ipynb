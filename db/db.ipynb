{
 "cells": [
  {
   "cell_type": "code",
   "execution_count": 1,
   "metadata": {},
   "outputs": [
    {
     "name": "stdout",
     "output_type": "stream",
     "text": [
      "Requirement already satisfied: mysql-connector-python in c:\\users\\alexa\\appdata\\local\\programs\\python\\python312\\lib\\site-packages (9.2.0)\n",
      "Requirement already satisfied: python-dotenv in c:\\users\\alexa\\appdata\\local\\programs\\python\\python312\\lib\\site-packages (1.1.0)\n"
     ]
    },
    {
     "name": "stderr",
     "output_type": "stream",
     "text": [
      "\n",
      "[notice] A new release of pip is available: 24.0 -> 25.0.1\n",
      "[notice] To update, run: python.exe -m pip install --upgrade pip\n"
     ]
    }
   ],
   "source": [
    "!pip3 install mysql-connector-python python-dotenv"
   ]
  },
  {
   "cell_type": "code",
   "execution_count": 2,
   "metadata": {},
   "outputs": [],
   "source": [
    "import mysql.connector\n",
    "from mysql.connector import Error\n",
    "from dotenv import load_dotenv\n",
    "import os"
   ]
  },
  {
   "cell_type": "code",
   "execution_count": null,
   "metadata": {},
   "outputs": [],
   "source": [
    "# Load environment variables from .env file\n",
    "load_dotenv()\n",
    "\n",
    "# Database connection details\n",
    "db_host = \"swagswipeserveur.mysql.database.azure.com\"\n",
    "db_user = \"adminSwag\"\n",
    "db_password = \"SwaggySwipe123\"\n",
    "db_database = \"swagswipe\""
   ]
  },
  {
   "cell_type": "code",
   "execution_count": 4,
   "metadata": {},
   "outputs": [],
   "source": [
    "def create_connection(host_name, user_name, user_password, db_name):\n",
    "    connection = None\n",
    "    try:\n",
    "        connection = mysql.connector.connect(\n",
    "            host=host_name,\n",
    "            user=user_name,\n",
    "            passwd=user_password,\n",
    "            database=db_name\n",
    "        )\n",
    "        print(\"Connection to MySQL DB successful\")\n",
    "    except Error as e:\n",
    "        print(f\"The error '{e}' occurred\")\n",
    "    return connection"
   ]
  },
  {
   "cell_type": "code",
   "execution_count": 5,
   "metadata": {},
   "outputs": [],
   "source": [
    "def execute_query(connection, query):\n",
    "    cursor = connection.cursor()\n",
    "    try:\n",
    "        cursor.execute(query)\n",
    "        connection.commit()\n",
    "        print(f\"Query executed successfully: {query}\")\n",
    "    except Error as e:\n",
    "        print(f\"The error '{e}' occurred when executing: {query}\")"
   ]
  },
  {
   "cell_type": "code",
   "execution_count": 6,
   "metadata": {},
   "outputs": [],
   "source": [
    "def execute_script_from_file(connection, file_path):\n",
    "    cursor = connection.cursor()\n",
    "    with open(file_path, 'r') as file:\n",
    "        script = file.read()\n",
    "\n",
    "    statements = script.split(';')\n",
    "\n",
    "    for statement in statements:\n",
    "        if statement.strip():\n",
    "            try:\n",
    "                cursor.execute(statement)\n",
    "                connection.commit()\n",
    "                print(f\"Statement executed successfully: {statement}\")\n",
    "            except Error as e:\n",
    "                if e.errno == 1050:  # Error code for \"Table already exists\"\n",
    "                    print(f\"The error '{e}' occurred when executing statement: {statement} - Table already exists, continuing...\")\n",
    "                elif e.errno == 1061:  # Error code for \"Duplicate key name\"\n",
    "                    print(f\"The error '{e}' occurred when executing statement: {statement} - Duplicate key name, continuing...\")\n",
    "                elif e.errno == 1062:  # Error code for \"Duplicate entry\"\n",
    "                    print(f\"The error '{e}' occurred when executing statement: {statement} - Duplicate entry, continuing...\")\n",
    "                elif e.errno == 1146:  # Error code for \"Table doesn't exist\"\n",
    "                    print(f\"The error '{e}' occurred when executing statement: {statement} - Table doesn't exist, continuing...\")\n",
    "                else:\n",
    "                    print(f\"The error '{e}' occurred when executing statement: {statement}\")"
   ]
  },
  {
   "cell_type": "code",
   "execution_count": 7,
   "metadata": {},
   "outputs": [
    {
     "name": "stdout",
     "output_type": "stream",
     "text": [
      "Connection to MySQL DB successful\n",
      "Statement executed successfully: -- Suppression des tables en respectant les dÃ©pendances\n",
      "DROP TABLE IF EXISTS produit\n",
      "Statement executed successfully: \n",
      "DROP TABLE IF EXISTS avis\n",
      "Statement executed successfully: \n",
      "DROP TABLE IF EXISTS utilisateur\n",
      "Statement executed successfully: \n",
      "\n",
      "-- CrÃ©ation de la table des utilisateurs\n",
      "CREATE TABLE utilisateur (\n",
      "    id_user INT(10) AUTO_INCREMENT PRIMARY KEY,\n",
      "    nom VARCHAR(255) NOT NULL,\n",
      "    prenom VARCHAR(255) NOT NULL,\n",
      "    email VARCHAR(255) NOT NULL UNIQUE,\n",
      "    telephone VARCHAR(12) NOT NULL,\n",
      "    mdp VARCHAR(255) NOT NULL,\n",
      "    num_civique VARCHAR(255) NOT NULL,\n",
      "    rue VARCHAR(255) NOT NULL,\n",
      "    ville VARCHAR(255) NOT NULL,\n",
      "    code_postal VARCHAR(255) NOT NULL,\n",
      "    role ENUM('admin', 'usager') NOT NULL DEFAULT 'usager'\n",
      ") COMMENT='Table des utilisateurs'\n",
      "Statement executed successfully: \n",
      "\n",
      "-- CrÃ©ation de la table des produits\n",
      "CREATE TABLE produit (\n",
      "    id_produit INT(10) PRIMARY KEY,\n",
      "    nom VARCHAR(255) NOT NULL,\n",
      "    prix DECIMAL(10,2) NOT NULL,\n",
      "    image VARCHAR(255) NOT NULL,\n",
      "    taille VARCHAR(255) NOT NULL,\n",
      "    conditions VARCHAR(255) NOT NULL, -- \"condition\" est un mot rÃ©servÃ©\n",
      "    marque VARCHAR(255),\n",
      "    description VARCHAR(255),\n",
      "    categorie VARCHAR(255) NOT NULL,\n",
      "    id_user INT(10) NOT NULL,\n",
      "    FOREIGN KEY (id_user) REFERENCES utilisateur(id_user)\n",
      ") COMMENT='Table des produits'\n",
      "Statement executed successfully: \n",
      "\n",
      "-- CrÃ©ation de la table des avis\n",
      "CREATE TABLE avis (\n",
      "    id_avis INT(10) AUTO_INCREMENT PRIMARY KEY,\n",
      "    id_user INT(10),\n",
      "    avis VARCHAR(255) NOT NULL,\n",
      "    note INT(1) NOT NULL,\n",
      "    FOREIGN KEY (id_user) REFERENCES utilisateur(id_user)\n",
      ") COMMENT='Table des avis'\n",
      "Statement executed successfully: \n",
      "-- Insertion des utilisateurs\n",
      "INSERT INTO utilisateur (nom, prenom, email, telephone, mdp, num_civique, rue, ville, code_postal, role) VALUES\n",
      "('Martin', 'Vincent', 'vincent.martin.2@ens.etsmtl.ca', '111-111-1111', 'mdp1', '123', 'notre dame', 'Montreal', 'h1x 2v3', 'usager'),\n",
      "('Stoia', 'Maria Sandra', 'sandra-maria.stoia.1@ens.etsmtl.ca', '111-111-1111', 'mdp2', '123', 'notre dame', 'Montreal', 'h1x 2v3', 'usager'),\n",
      "('Wilmot', 'Xavier', 'xavier.wilmot.1@ens.etsmtl.ca', '111-111-1111', 'mdp3', '123', 'notre dame', 'Montreal', 'h1x 2v3', 'usager'),\n",
      "('Berard', 'Nicolas', 'nicolas.berard.1@ens.etsmtl.ca', '111-111-1111', 'mdp4', '123', 'notre dame', 'Montreal', 'h1x 2v3', 'usager'),\n",
      "('Dubois', 'Rose-Anne', 'rose-anne.dubois.1@ens.etsmtl.ca', '111-111-1111', 'mdp5', '123', 'notre dame', 'Montreal', 'h1x 2v3', 'usager'),\n",
      "('Bouchard', 'Alexandre', 'alexandre.bouchard.6@ens.etsmtl.ca', '111-111-1111', 'mdp6', '123', 'notre dame', 'Montreal', 'h1x 2v3', 'usager')\n",
      "The error '1452 (23000): Cannot add or update a child row: a foreign key constraint fails (`swagswipe`.`produit`, CONSTRAINT `produit_ibfk_1` FOREIGN KEY (`id_user`) REFERENCES `utilisateur` (`id_user`))' occurred when executing statement: \n",
      "\n",
      "\n",
      "INSERT INTO produit (\n",
      "        id_produit, nom, prix, image, categorie, description, taille, conditions, marque, id_user\n",
      "    ) VALUES (\n",
      "        3, 'Soulier Sport', 59.99, 'img/soulier_test4.jpg', \n",
      "        'soulier', 'Des souliers de sport lÃ©gers et confortables pour la course.', '42', \n",
      "        'Bon Ã©tat', 'Adidas', 789\n",
      "    )\n",
      "The error '1064 (42000): You have an error in your SQL syntax; check the manual that corresponds to your MySQL server version for the right syntax to use near 's', 101\n",
      "    )' at line 6' occurred when executing statement: \n",
      "INSERT INTO produit (\n",
      "        id_produit, nom, prix, image, categorie, description, taille, conditions, marque, id_user\n",
      "    ) VALUES (\n",
      "        4, 'Veste en denim', 34.99, 'img/veste_test1.jpg', \n",
      "        'plein_air', 'Une veste en denim intemporelle pour un style classique.', 'M', \n",
      "        'TrÃ¨s bon Ã©tat', 'Levi's', 101\n",
      "    )\n"
     ]
    }
   ],
   "source": [
    "def main():\n",
    "    connection = create_connection(db_host, db_user, db_password, db_database)\n",
    "\n",
    "    if connection:\n",
    "        execute_script_from_file(connection, \"1create.sql\")\n",
    "        execute_script_from_file(connection, \"2contraines.sql\")\n",
    "        execute_script_from_file(connection, \"3insert.sql\")\n",
    "\n",
    "        connection.close()\n",
    "\n",
    "if __name__ == \"__main__\":\n",
    "    main()"
   ]
  },
  {
   "cell_type": "code",
   "execution_count": null,
   "metadata": {},
   "outputs": [],
   "source": []
  }
 ],
 "metadata": {
  "kernelspec": {
   "display_name": "Python 3",
   "language": "python",
   "name": "python3"
  },
  "language_info": {
   "codemirror_mode": {
    "name": "ipython",
    "version": 3
   },
   "file_extension": ".py",
   "mimetype": "text/x-python",
   "name": "python",
   "nbconvert_exporter": "python",
   "pygments_lexer": "ipython3",
   "version": "3.12.1"
  }
 },
 "nbformat": 4,
 "nbformat_minor": 2
}
