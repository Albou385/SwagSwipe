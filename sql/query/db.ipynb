{
 "cells": [
  {
   "cell_type": "code",
   "execution_count": 1,
   "metadata": {},
   "outputs": [
    {
     "name": "stdout",
     "output_type": "stream",
     "text": [
      "Requirement already satisfied: mysql-connector-python in c:\\users\\alexa\\appdata\\local\\programs\\python\\python312\\lib\\site-packages (9.2.0)\n",
      "Requirement already satisfied: python-dotenv in c:\\users\\alexa\\appdata\\local\\programs\\python\\python312\\lib\\site-packages (1.1.0)\n"
     ]
    },
    {
     "name": "stderr",
     "output_type": "stream",
     "text": [
      "\n",
      "[notice] A new release of pip is available: 24.0 -> 25.0.1\n",
      "[notice] To update, run: python.exe -m pip install --upgrade pip\n"
     ]
    }
   ],
   "source": [
    "!pip3 install mysql-connector-python python-dotenv"
   ]
  },
  {
   "cell_type": "code",
   "execution_count": 4,
   "metadata": {},
   "outputs": [
    {
     "ename": "ModuleNotFoundError",
     "evalue": "No module named 'mysql'",
     "output_type": "error",
     "traceback": [
      "\u001b[31m---------------------------------------------------------------------------\u001b[39m",
      "\u001b[31mModuleNotFoundError\u001b[39m                       Traceback (most recent call last)",
      "\u001b[36mCell\u001b[39m\u001b[36m \u001b[39m\u001b[32mIn[4]\u001b[39m\u001b[32m, line 1\u001b[39m\n\u001b[32m----> \u001b[39m\u001b[32m1\u001b[39m \u001b[38;5;28;01mimport\u001b[39;00m\u001b[38;5;250m \u001b[39m\u001b[34;01mmysql\u001b[39;00m\u001b[34;01m.\u001b[39;00m\u001b[34;01mconnector\u001b[39;00m\n\u001b[32m      2\u001b[39m \u001b[38;5;28;01mfrom\u001b[39;00m\u001b[38;5;250m \u001b[39m\u001b[34;01mmysql\u001b[39;00m\u001b[34;01m.\u001b[39;00m\u001b[34;01mconnector\u001b[39;00m\u001b[38;5;250m \u001b[39m\u001b[38;5;28;01mimport\u001b[39;00m Error\n\u001b[32m      3\u001b[39m \u001b[38;5;28;01mfrom\u001b[39;00m\u001b[38;5;250m \u001b[39m\u001b[34;01mdotenv\u001b[39;00m\u001b[38;5;250m \u001b[39m\u001b[38;5;28;01mimport\u001b[39;00m load_dotenv\n",
      "\u001b[31mModuleNotFoundError\u001b[39m: No module named 'mysql'"
     ]
    }
   ],
   "source": [
    "import mysql.connector\n",
    "from mysql.connector import Error\n",
    "from dotenv import load_dotenv\n",
    "import os"
   ]
  },
  {
   "cell_type": "code",
   "execution_count": null,
   "metadata": {},
   "outputs": [],
   "source": [
    "# Database connection details\n",
    "db_host = \"swagswipeserveur.mysql.database.azure.com\"\n",
    "db_user = \"adminSwag\"\n",
    "db_password = \"SwaggySwipe123\"\n",
    "db_database = \"SwagSwipe\""
   ]
  },
  {
   "cell_type": "code",
   "execution_count": null,
   "metadata": {},
   "outputs": [],
   "source": [
    "def create_connection(host_name, user_name, user_password, db_name):\n",
    "    connection = None\n",
    "    try:\n",
    "        connection = mysql.connector.connect(\n",
    "            host=host_name,\n",
    "            user=user_name,\n",
    "            passwd=user_password,\n",
    "            database=db_name\n",
    "        )\n",
    "        print(\"Connection to MySQL DB successful\")\n",
    "    except Error as e:\n",
    "        print(f\"The error '{e}' occurred\")\n",
    "    return connection"
   ]
  },
  {
   "cell_type": "code",
   "execution_count": null,
   "metadata": {},
   "outputs": [],
   "source": [
    "def execute_query(connection, query):\n",
    "    cursor = connection.cursor()\n",
    "    try:\n",
    "        cursor.execute(query)\n",
    "        connection.commit()\n",
    "        print(f\"Query executed successfully: {query}\")\n",
    "    except Error as e:\n",
    "        print(f\"The error '{e}' occurred when executing: {query}\")"
   ]
  },
  {
   "cell_type": "code",
   "execution_count": null,
   "metadata": {},
   "outputs": [],
   "source": [
    "def execute_script_from_file(connection, file_path):\n",
    "    cursor = connection.cursor()\n",
    "    with open(file_path, 'r') as file:\n",
    "        script = file.read()\n",
    "\n",
    "    statements = script.split(';')\n",
    "\n",
    "    for statement in statements:\n",
    "        if statement.strip():\n",
    "            try:\n",
    "                cursor.execute(statement)\n",
    "                connection.commit()\n",
    "                print(f\"Statement executed successfully: {statement}\")\n",
    "            except Error as e:\n",
    "                if e.errno == 1050:  # Error code for \"Table already exists\"\n",
    "                    print(f\"The error '{e}' occurred when executing statement: {statement} - Table already exists, continuing...\")\n",
    "                elif e.errno == 1061:  # Error code for \"Duplicate key name\"\n",
    "                    print(f\"The error '{e}' occurred when executing statement: {statement} - Duplicate key name, continuing...\")\n",
    "                elif e.errno == 1062:  # Error code for \"Duplicate entry\"\n",
    "                    print(f\"The error '{e}' occurred when executing statement: {statement} - Duplicate entry, continuing...\")\n",
    "                elif e.errno == 1146:  # Error code for \"Table doesn't exist\"\n",
    "                    print(f\"The error '{e}' occurred when executing statement: {statement} - Table doesn't exist, continuing...\")\n",
    "                else:\n",
    "                    print(f\"The error '{e}' occurred when executing statement: {statement}\")"
   ]
  },
  {
   "cell_type": "code",
   "execution_count": null,
   "metadata": {},
   "outputs": [],
   "source": [
    "def main():\n",
    "    connection = create_connection(db_host, db_user, db_password, db_database)\n",
    "\n",
    "    if connection:\n",
    "        execute_script_from_file(connection, \"drop table.sql\")\n",
    "        execute_script_from_file(connection, \"add tables.sql\")\n",
    "        execute_script_from_file(connection, \"insert date.sql\")\n",
    "\n",
    "        connection.close()\n",
    "\n",
    "if __name__ == \"__main__\":\n",
    "    main()"
   ]
  }
 ],
 "metadata": {
  "kernelspec": {
   "display_name": "Python 3",
   "language": "python",
   "name": "python3"
  },
  "language_info": {
   "codemirror_mode": {
    "name": "ipython",
    "version": 3
   },
   "file_extension": ".py",
   "mimetype": "text/x-python",
   "name": "python",
   "nbconvert_exporter": "python",
   "pygments_lexer": "ipython3",
   "version": "3.12.1"
  }
 },
 "nbformat": 4,
 "nbformat_minor": 2
}
